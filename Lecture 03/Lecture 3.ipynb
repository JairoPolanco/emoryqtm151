{
 "cells": [
  {
   "attachments": {},
   "cell_type": "markdown",
   "metadata": {},
   "source": [
    "# <span style=\"color:darkblue\"> Lecture 3: Mathematical Operations and Random Numbers </span>"
   ]
  },
  {
   "attachments": {},
   "cell_type": "markdown",
   "metadata": {},
   "source": [
    "<font size=\"5\"> \n",
    "\n",
    "In the previous class we:\n",
    "- Introduced lists and variable types\n",
    "- Talked about how to extract elements from a list"
   ]
  },
  {
   "attachments": {},
   "cell_type": "markdown",
   "metadata": {},
   "source": [
    "<font size=\"5\"> \n",
    "\n",
    "In this class we will:\n",
    "\n",
    "- Introduce a library for general mathematical operations\n",
    "- Generate random numbers\n",
    "- (Optional) Matrix operations"
   ]
  },
  {
   "attachments": {},
   "cell_type": "markdown",
   "metadata": {},
   "source": [
    "## <span style=\"color:darkblue\"> I. Import Libraries </span>"
   ]
  },
  {
   "cell_type": "code",
<<<<<<< Updated upstream
   "execution_count": 1,
=======
   "execution_count": 56,
>>>>>>> Stashed changes
   "metadata": {},
   "outputs": [],
   "source": [
    "# the \"numPy\" library is used for mathematical operations\n",
    "# the \"matplotlib\" library is for generating graphs\n",
    "\n",
    "import numpy as np\n",
    "import matplotlib.pyplot as plt\n"
   ]
  },
  {
   "attachments": {},
   "cell_type": "markdown",
   "metadata": {},
   "source": [
    "##  <span style=\"color:darkblue\"> II. Numbers and Functions </span>"
   ]
  },
  {
   "attachments": {},
   "cell_type": "markdown",
   "metadata": {},
   "source": [
    "<font size = \"5\" >\n",
    "Examples of numPy numbers"
   ]
  },
  {
   "cell_type": "code",
   "execution_count": 57,
   "metadata": {},
   "outputs": [
    {
     "data": {
      "text/plain": [
       "3.141592653589793"
      ]
     },
     "execution_count": 57,
     "metadata": {},
     "output_type": "execute_result"
    }
   ],
   "source": [
    "# Computes \"pi\" (3.14...)\n",
    "\n",
    "np.pi"
   ]
  },
  {
   "attachments": {},
   "cell_type": "markdown",
   "metadata": {},
   "source": [
    "<font size = \"5\" >\n",
    "\n",
    "Examples of numPy functions\n",
    "\n",
    "$ ln(x), e^x, sin(x), cos(x), \\sqrt{x}$"
   ]
  },
  {
   "cell_type": "code",
   "execution_count": 58,
   "metadata": {},
   "outputs": [
    {
     "name": "stdout",
     "output_type": "stream",
     "text": [
      "0.0\n",
      "2.718281828459045\n",
      "0.8414709848078965\n",
      "0.5403023058681398\n",
      "1.0\n"
     ]
    }
   ],
   "source": [
    "# log(x) computes the logarithm with base \"e\" (Euler constant)\n",
    "# exp(x) compute the Euler constant raised to the power of \"x\"\n",
    "# sing(x) computes the sine of x\n",
    "# cos(x) computes the cosine of x\n",
    "# In this example, we're substituting x = 1\n",
    "\n",
    "print(np.log(1))\n",
    "print(np.exp(1))\n",
    "print(np.sin(1))\n",
    "print(np.cos(1))\n",
    "print(np.sqrt(1))"
   ]
  },
  {
   "attachments": {},
   "cell_type": "markdown",
   "metadata": {},
   "source": [
    "<font size = \"5\">\n",
    "\n",
    "Try it yourself!\n",
    "\n",
    "- Create a new variable, $x = 5$\n",
    "- Compute $\\pi x^2$\n",
    "- Compute $ \\frac{1}{\\sqrt{2\\pi}}e^{-x^2} $"
   ]
  },
  {
   "cell_type": "code",
   "execution_count": 59,
   "metadata": {},
   "outputs": [
    {
     "data": {
      "text/plain": [
       "78.53981633974483"
      ]
     },
     "execution_count": 59,
     "metadata": {},
     "output_type": "execute_result"
    }
   ],
   "source": [
    "# Include your answer here:\n",
    "\n",
    "\n",
    "x = 5\n",
    "\n",
    "np.pi * np.power(x,2)\n",
    "\n",
    "#(1/np.sqrt(2**np.pi)) ** e**-x**2\n",
    "\n",
    "\n"
   ]
  },
  {
   "attachments": {},
   "cell_type": "markdown",
   "metadata": {},
   "source": [
    "##  <span style=\"color:darkblue\"> III. Vector Arrays </span>"
   ]
  },
  {
   "attachments": {},
   "cell_type": "markdown",
   "metadata": {},
   "source": [
    "<font size = \"5\">\n",
    "Create an array from a list\n",
    "\n",
    "$ \\text{ }$\n",
    "$ a = \\begin{pmatrix} 1 \\\\ 2 \\\\ 3 \\end{pmatrix}\n",
    "\\qquad b = \\begin{pmatrix} 0 \\\\ 1 \\\\ 0\\end{pmatrix}\n",
    "\\qquad c = \\begin{pmatrix} 10 \\\\ 100 \\\\ 1000 \\\\ 2000 \\\\ 5000 \\end{pmatrix} \n",
    "\\qquad d = \\begin{pmatrix} 4 \\\\ 2 \\end{pmatrix} $"
   ]
  },
  {
   "cell_type": "code",
   "execution_count": 60,
   "metadata": {},
   "outputs": [],
   "source": [
    "# You create an array by converting a list [1,2,3] to a numeric object\n",
    "# \"array\" is a subfunction of the library numPy.\n",
    "\n",
    "vec_a  = np.array([1,2,3])\n",
    "vec_b  = np.array([0,1,0])\n",
    "vec_c  = np.array([10,100,1000,2000,5000])\n",
    "vec_d  = np.array([4,2])\n"
   ]
  },
  {
   "attachments": {},
   "cell_type": "markdown",
   "metadata": {},
   "source": [
    "<font size = \"5\">\n",
    "\n",
    "Accessing an element of an array"
   ]
  },
  {
   "cell_type": "code",
   "execution_count": 61,
   "metadata": {},
   "outputs": [
    {
     "name": "stdout",
     "output_type": "stream",
     "text": [
      "1\n",
      "3\n"
     ]
    }
   ],
   "source": [
    "# Arrays, like lists, start their numbering at zero.\n",
    "# You also access them with square brackets\n",
    "\n",
    "print(vec_a[0])\n",
    "print(vec_a[2])\n"
   ]
  },
  {
   "attachments": {},
   "cell_type": "markdown",
   "metadata": {},
   "source": [
    "<font size = \"5\">\n",
    "Operations with a single array and a scalar"
   ]
  },
  {
   "attachments": {},
   "cell_type": "markdown",
   "metadata": {},
   "source": [
    "<font size = \"5\">\n",
    "\n",
    "$ a + 2 = \\begin{pmatrix} a_1 + 2 \\\\ a_2 + 2 \\\\ a_3 + 2 \\end{pmatrix}$"
   ]
  },
  {
   "cell_type": "code",
   "execution_count": 62,
   "metadata": {},
   "outputs": [
    {
     "name": "stdout",
     "output_type": "stream",
     "text": [
      "[2 4 6]\n",
      "[0.5 1.  1.5]\n",
      "[3 4 5]\n",
      "[1 4 9]\n"
     ]
    }
   ],
   "source": [
    "# A scalar refers to either an int or float\n",
    "# We can do many common operations with \n",
    "\n",
    "print(vec_a * 2)\n",
    "print(vec_a / 2)\n",
    "print(vec_a + 2)\n",
    "print(vec_a ** 2)"
   ]
  },
  {
   "attachments": {},
   "cell_type": "markdown",
   "metadata": {},
   "source": [
    "<font size = \"5\">\n",
    "Element-by-element addition between two arrays of the same size\n",
    "\n",
    "$\\text{ }$\n",
    "\n",
    "$ a + b = \\begin{pmatrix} a_1 \\\\ a_2 \\\\ a_3 \\end{pmatrix} +\n",
    "          \\begin{pmatrix} b_1 \\\\ b_2 \\\\ b_3 \\end{pmatrix} =\n",
    "          \\begin{pmatrix} a_1 + b_1 \\\\ a_2 + b_2 \\\\ a_3 + b_3 \\end{pmatrix}$"
   ]
  },
  {
   "cell_type": "code",
   "execution_count": 63,
   "metadata": {},
   "outputs": [
    {
     "name": "stdout",
     "output_type": "stream",
     "text": [
      "[1 3 3]\n"
     ]
    }
   ],
   "source": [
    "# When you add two arrays of the same size,\n",
    "# Python adds the individual elements in each position\n",
    "\n",
    "print(vec_a + vec_b)\n"
   ]
  },
  {
   "attachments": {},
   "cell_type": "markdown",
   "metadata": {},
   "source": [
    "<font size =\"5\">\n",
    "\n",
    "The default multiplication option is element-by element:\n",
    "\n",
    "$ a * b = \\begin{pmatrix} a_1 * b_1 \\\\ a_2 * b_2 \\\\ a_3 * b_3 \\end{pmatrix}$"
   ]
  },
  {
   "cell_type": "code",
   "execution_count": 64,
   "metadata": {},
   "outputs": [
    {
     "name": "stdout",
     "output_type": "stream",
     "text": [
      "[0 2 0]\n",
      "[1 1 3]\n",
      "[inf  2. inf]\n"
     ]
    },
    {
     "name": "stderr",
     "output_type": "stream",
     "text": [
      "/var/folders/ph/c5bctz9506v7gwkvz63y_xkc0000gn/T/ipykernel_27311/3839639845.py:6: RuntimeWarning: divide by zero encountered in divide\n",
      "  print(vec_a / vec_b)\n"
     ]
    }
   ],
   "source": [
    "# We can do other similar element-by-element operations\n",
    "# such as multiplication, subtraction, and division.\n",
    "\n",
    "print(vec_a * vec_b)\n",
    "print(vec_a - vec_b)\n",
    "print(vec_a / vec_b)\n"
   ]
  },
  {
   "attachments": {},
   "cell_type": "markdown",
   "metadata": {},
   "source": [
    "<font size = \"5\">\n",
    "Summary statistics of an array"
   ]
  },
  {
   "cell_type": "code",
   "execution_count": 65,
   "metadata": {},
   "outputs": [
    {
     "name": "stdout",
     "output_type": "stream",
     "text": [
      "2.0\n",
      "0.816496580927726\n",
      "1\n",
      "2.0\n",
      "3\n"
     ]
    }
   ],
   "source": [
    "# The function np.mean() computes the mean of an array\n",
    "# We can do similar operations for the standard deviation (std),\n",
    "# the minimum (min), the median (median), and the maximum (max).\n",
    "\n",
    "print(np.mean(vec_a))\n",
    "print(np.std(vec_a))\n",
    "print(np.min(vec_a))\n",
    "print(np.median(vec_a))\n",
    "print(np.max(vec_a))"
   ]
  },
  {
   "attachments": {},
   "cell_type": "markdown",
   "metadata": {},
   "source": [
    "<font size = \"5\">\n",
    "\n",
    "Try it yourself! Compute the mean of\n",
    "\n",
    "\n",
    "$ e = \\begin{pmatrix} 10 \\\\ 8 \\\\ 15 \\\\ 0 \\\\ 24 \\end{pmatrix} $"
   ]
  },
  {
   "cell_type": "code",
   "execution_count": 66,
   "metadata": {},
   "outputs": [
    {
     "name": "stdout",
     "output_type": "stream",
     "text": [
      "11.4\n",
      "24\n",
      "30.5\n",
      "44\n"
     ]
    }
   ],
   "source": [
    "# Create your own array and compute any of the above summary statistics\n",
    "\n",
    "vec_e = ([10,8,15,0,24])\n",
    "\n",
    "vec_f = ([29,44,7,42])\n",
    "\n",
    "print(np.mean(vec_e))\n",
    "print(np.max(vec_e))\n",
    "print(np.mean(vec_f))\n",
    "print(np.max(vec_f))\n",
    "\n",
    "\n",
    "\n",
    "\n",
    "\n",
    "\n",
    "\n",
    "\n"
   ]
  },
  {
   "attachments": {},
   "cell_type": "markdown",
   "metadata": {},
   "source": [
    "<font size = \"5\">\n",
    "<span style=\"color:red\"> Common Pitfall </span>: Make sure that the arrays have the same size"
   ]
  },
  {
   "cell_type": "code",
   "execution_count": 67,
   "metadata": {},
   "outputs": [],
   "source": [
    "# Here I try to combine two arrays of different size.\n",
    "\n",
    "#vec_a + vec_c"
   ]
  },
  {
   "attachments": {},
   "cell_type": "markdown",
   "metadata": {},
   "source": [
    "##  <span style=\"color:darkblue\"> IV. Random Numbers </span>\n",
    "\n",
    "<font size = \"5\">\n",
    "\n",
    "Why randomness?\n",
    "\n",
    "- Simulate different scenarios: high risk or low risk\n",
    "- Study properties of a complex system and/or estimator\n",
    "- In medicine, randomly assign subjects to treatment or control"
   ]
  },
  {
   "attachments": {},
   "cell_type": "markdown",
   "metadata": {},
   "source": [
    "<font size = \"5\">\n",
    "\n",
    "Create a vector of random variables"
   ]
  },
  {
   "cell_type": "code",
   "execution_count": 68,
   "metadata": {},
   "outputs": [
    {
     "name": "stdout",
     "output_type": "stream",
     "text": [
      "[ 0.51555469 -0.07099829  0.15555207 -0.91787352  2.61169    -0.02415831\n",
      " -0.8505161  -0.04236171 -0.96641694 -1.68700825]\n"
     ]
    }
   ],
   "source": [
    "# This code creates a vector of random variables \n",
    "# generated from a normal distribution with\n",
    "# mean \"loc\" (location) and standard deviation \"scale\"\n",
    "# the number of distinct variabels is \"size\"\n",
    "\n",
    "randomvar_a = np.random.normal(loc=0, scale=1, size=10)\n",
    "print(randomvar_a)"
   ]
  },
  {
   "attachments": {},
   "cell_type": "markdown",
   "metadata": {},
   "source": [
    "<font size = \"5\">\n",
    "\n",
    "Random numbers differ every time!\n",
    "\n",
    "- Avoid this problem by drawing from a \"pregenerated\" set.\n",
    "- This is called a seed"
   ]
  },
  {
   "cell_type": "code",
   "execution_count": 69,
   "metadata": {},
   "outputs": [
    {
     "name": "stdout",
     "output_type": "stream",
     "text": [
      "[-0.20470766  0.47894334 -0.51943872 -0.5557303   1.96578057  1.39340583\n",
      "  0.09290788  0.28174615  0.76902257  1.24643474]\n"
     ]
    }
   ],
   "source": [
    "# Your computer will typically generate different numbers every time you run a command\n",
    "# However, sometimes you want to be able to replicate the results\n",
    "# You can choose any other number instead of \"12345\". This will produce another set\n",
    "# of random numbers, but they will give the same answers\n",
    "\n",
    "np.random.seed(12345)\n",
    "\n",
    "random_var_b = np.random.normal(loc=0, scale=1, size=10)\n",
    "print(random_var_b)"
   ]
  },
  {
   "attachments": {},
   "cell_type": "markdown",
   "metadata": {},
   "source": [
    "<font size = \"5\">\n",
    "\n",
    "Compute a histogram with the results"
   ]
  },
  {
   "cell_type": "code",
   "execution_count": 70,
   "metadata": {},
   "outputs": [
    {
     "data": {
      "text/plain": [
       "Text(0, 0.5, 'Frequency')"
      ]
     },
     "execution_count": 70,
     "metadata": {},
     "output_type": "execute_result"
    },
    {
     "data": {
      "image/png": "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",
      "text/plain": [
       "<Figure size 640x480 with 1 Axes>"
      ]
     },
     "metadata": {},
     "output_type": "display_data"
    }
   ],
   "source": [
    "# Compute a histogram\n",
    "# You can edit the number of bins with plt.hist(x = randomvar_a)\n",
    "\n",
    "randomvar_x = np.random.normal(loc=0, scale=1, size=10)\n",
    "\n",
    "plt.hist(x = randomvar_x)\n",
    "plt.xlabel(\"Variable a\")\n",
    "plt.ylabel(\"Frequency\")"
   ]
  },
  {
   "attachments": {},
   "cell_type": "markdown",
   "metadata": {},
   "source": [
    "<font size = \"5\">\n",
    "\n",
    "Try this again with $size = 100, 1000, 10000$"
   ]
  },
  {
   "cell_type": "code",
   "execution_count": 71,
   "metadata": {},
   "outputs": [
    {
     "data": {
      "text/plain": [
       "Text(0, 0.5, 'Frequency')"
      ]
     },
     "execution_count": 71,
     "metadata": {},
     "output_type": "execute_result"
    },
    {
     "data": {
      "image/png": "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",
      "text/plain": [
       "<Figure size 640x480 with 1 Axes>"
      ]
     },
     "metadata": {},
     "output_type": "display_data"
    }
   ],
   "source": [
    "# Write the code for your histogram\n",
    "\n",
    "randomvar_c = np.random.normal(loc = 0, scale= 1, size = 100)\n",
    "\n",
    "randomvar_d = np.random.normal(loc = 0, scale= 1, size = 1000)\n",
    "\n",
    "randomvar_e = np.random.normal(loc = 0, scale= 1, size = 10000)\n",
    "\n",
    "\n",
    "plt.hist(x = randomvar_c)\n",
    "plt.xlabel(\"Variable a\")\n",
    "plt.ylabel(\"Frequency\")\n",
    "\n",
    "\n",
    "plt.hist(x = randomvar_d)\n",
    "plt.xlabel(\"Variable a\")\n",
    "plt.ylabel(\"Frequency\")\n",
    "\n",
    "\n",
    "\n",
    "plt.hist(x = randomvar_e)\n",
    "plt.xlabel(\"Variable a\")\n",
    "plt.ylabel(\"Frequency\")\n",
    "\n",
    "\n",
    "\n",
    "\n",
    "\n",
    "\n",
    "\n",
    "\n",
    "\n"
   ]
  },
  {
   "attachments": {},
   "cell_type": "markdown",
   "metadata": {},
   "source": [
    "# <span style=\"color:darkblue\"> Additional Resources </span>\n",
    "\n",
    "<font size=\"5\"> \n",
    "\n",
    "Check out additional examples at:\n",
    "\n",
    "- https://allendowney.github.io/ElementsOfDataScience/03_arrays.html\n",
    "\n",
    "\n"
   ]
  },
  {
   "attachments": {},
   "cell_type": "markdown",
   "metadata": {},
   "source": [
    "# <span style=\"color:darkblue\"> (Optional) Matrix Operations </span>\n",
    "\n",
    "<font size=\"5\"> \n"
   ]
  },
  {
   "attachments": {},
   "cell_type": "markdown",
   "metadata": {},
   "source": [
    "<font size = \"5\">\n",
    "Creating a matrix by stacking different rows\n",
    "\n",
    "$ \\text{ }$\n",
    "\n",
    "$ X = \\begin{pmatrix} 1 & 2 & 3 \\\\ \n",
    "                       0 & 4 & 5 \\\\\n",
    "                       0 & 0 & 6\n",
    "                       \\end{pmatrix} $"
   ]
  },
  {
   "cell_type": "code",
   "execution_count": 72,
   "metadata": {},
   "outputs": [
    {
     "name": "stdout",
     "output_type": "stream",
     "text": [
      "[[1 2 3]\n",
      " [0 4 5]\n",
      " [0 0 6]]\n"
     ]
    }
   ],
   "source": [
    "# Matrices are usually denoted by capital letters\n",
    "# The object [[1,2,3],[4,5,6],[7,8,9]] is a list of lists\n",
    "# It's useful to maintain this notation in the code as well\n",
    "\n",
    "X = np.array([[1,2,3],[0,4,5],[0,0,6]])\n",
    "print(X)"
   ]
  },
  {
   "attachments": {},
   "cell_type": "markdown",
   "metadata": {},
   "source": [
    "<font size = \"5\">\n",
    "Creating a matrix by stacking different columns\n",
    "\n",
    "$ \\text{ } $\n",
    "\n",
    "$ Y = \\begin{pmatrix} 1 & 2 \\\\ 0 & 1 \\\\ 1 & 0 \\end{pmatrix}$"
   ]
  },
  {
   "cell_type": "code",
   "execution_count": 73,
   "metadata": {},
   "outputs": [
    {
     "name": "stdout",
     "output_type": "stream",
     "text": [
      "[[1 2]\n",
      " [0 1]\n",
      " [1 0]]\n"
     ]
    }
   ],
   "source": [
    "# You can also stack columns\n",
    "Y =  np.column_stack([[1,0,1],[2,1,0]])\n",
    "print(Y)"
   ]
  },
  {
   "attachments": {},
   "cell_type": "markdown",
   "metadata": {},
   "source": [
    "<font size = \"5\">\n",
    "Transpose\n",
    "\n",
    "$ \\text{ }$\n",
    "\n",
    "$ Y' = \\begin{pmatrix}  1 & 0 & 1 \\\\ 2 & 1 & 0  \\end{pmatrix} $"
   ]
  },
  {
   "cell_type": "code",
   "execution_count": 74,
   "metadata": {},
   "outputs": [
    {
     "data": {
      "text/plain": [
       "array([[1, 0, 1],\n",
       "       [2, 1, 0]])"
      ]
     },
     "execution_count": 74,
     "metadata": {},
     "output_type": "execute_result"
    }
   ],
   "source": [
    "# Matrix Transpose\n",
    "np.matrix.transpose(Y)"
   ]
  },
  {
   "attachments": {},
   "cell_type": "markdown",
   "metadata": {},
   "source": [
    "<font size = \"5\">\n",
    "\n",
    "Matrix multiplication\n",
    "\n",
    "$ XY = \\begin{pmatrix} 1 & 2 & 3 \\\\ \n",
    "                       0 & 4 & 5 \\\\\n",
    "                       0 & 0 & 6\n",
    "                       \\end{pmatrix}\n",
    "                       \\begin{pmatrix} 1 & 2 \\\\ 0 & 1 \\\\ 1 & 0 \\end{pmatrix} = \n",
    "        \\begin{pmatrix} 4 & 4 \\\\ 5 & 4 \\\\ 6 & 0 \\end{pmatrix} $"
   ]
  },
  {
   "cell_type": "code",
<<<<<<< Updated upstream
   "execution_count": 34,
=======
   "execution_count": 75,
>>>>>>> Stashed changes
   "metadata": {},
   "outputs": [
    {
     "data": {
      "text/plain": [
       "array([[4, 4],\n",
       "       [5, 4],\n",
       "       [6, 0]])"
      ]
     },
<<<<<<< Updated upstream
     "execution_count": 34,
=======
     "execution_count": 75,
>>>>>>> Stashed changes
     "metadata": {},
     "output_type": "execute_result"
    }
   ],
   "source": [
    "# Matrix Multiplication\n",
    "\n",
    "np.dot(X,Y)\n",
    "\n",
    "np.matmul(X,Y)"
   ]
  },
  {
   "attachments": {},
   "cell_type": "markdown",
   "metadata": {},
   "source": [
    "<font size = \"5\">\n",
    "\n",
    "Matrix inverse\n",
    "\n",
    "$ X^{-1} = \\begin{pmatrix} 1 & 2 & 3 \\\\ \n",
    "                       0 & 4 & 5 \\\\\n",
    "                       0 & 0 & 6\n",
    "                       \\end{pmatrix}^{-1} $"
   ]
  },
  {
   "cell_type": "code",
   "execution_count": 76,
   "metadata": {},
   "outputs": [
    {
     "name": "stdout",
     "output_type": "stream",
     "text": [
      "23.999999999999993\n",
      "[[ 1.         -0.5        -0.08333333]\n",
      " [ 0.          0.25       -0.20833333]\n",
      " [ 0.          0.          0.16666667]]\n"
     ]
    }
   ],
   "source": [
    "# Check the determinant of a matrix (a matrix is invertible if the determinant is not zero)\n",
    "print(np.linalg.det(X))\n",
    "\n",
    "# Matrix inverse\n",
    "# The following command stands for linear algebrar inverse.\n",
    "X_inv = np.linalg.inv(X)\n",
    "\n",
    "# Output the result\n",
    "print(X_inv)\n"
   ]
  },
  {
   "attachments": {},
   "cell_type": "markdown",
   "metadata": {},
   "source": [
    "<font size = \"5\">\n",
    "\n",
    "Try it yourself! Check that this is indeed an inverse:\n",
    "\n",
    "$X X_{inv} = \\begin{pmatrix} 1 & 0 & 0 \\\\ 0 & 1 & 0 \\\\ 0 & 0 & 1 \\end{pmatrix}$"
   ]
  },
  {
   "cell_type": "code",
   "execution_count": 77,
   "metadata": {},
   "outputs": [
    {
     "data": {
      "text/plain": [
       "array([[ 1.00000000e+00,  0.00000000e+00, -2.77555756e-17],\n",
       "       [ 0.00000000e+00,  1.00000000e+00,  2.77555756e-17],\n",
       "       [ 0.00000000e+00,  0.00000000e+00,  1.00000000e+00]])"
      ]
     },
     "execution_count": 77,
     "metadata": {},
     "output_type": "execute_result"
    }
   ],
   "source": [
    "# Multiply \"X\" times \"X_inv\" using the command shown above\n",
    "# Note: Sometimes the result is shown in scientific notation.\n",
    "\n",
    "np.matmul(X,X_inv)\n",
    "\n",
    "\n",
    "\n"
   ]
  }
 ],
 "metadata": {
  "kernelspec": {
   "display_name": "Python 3",
   "language": "python",
   "name": "python3"
  },
  "language_info": {
   "codemirror_mode": {
    "name": "ipython",
    "version": 3
   },
   "file_extension": ".py",
   "mimetype": "text/x-python",
   "name": "python",
   "nbconvert_exporter": "python",
   "pygments_lexer": "ipython3",
<<<<<<< Updated upstream
   "version": "3.11.1"
=======
   "version": "3.11.1 (v3.11.1:a7a450f84a, Dec  6 2022, 15:24:06) [Clang 13.0.0 (clang-1300.0.29.30)]"
>>>>>>> Stashed changes
  },
  "orig_nbformat": 4,
  "vscode": {
   "interpreter": {
    "hash": "aee8b7b246df8f9039afb4144a1f6fd8d2ca17a180786b69acc140d282b71a49"
   }
  }
 },
 "nbformat": 4,
 "nbformat_minor": 2
}
